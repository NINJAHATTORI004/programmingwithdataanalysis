{
  "nbformat": 4,
  "nbformat_minor": 0,
  "metadata": {
    "colab": {
      "provenance": [],
      "authorship_tag": "ABX9TyOqvVq3ZXS/Xy0UCQMTs8zC",
      "include_colab_link": true
    },
    "kernelspec": {
      "name": "python3",
      "display_name": "Python 3"
    },
    "language_info": {
      "name": "python"
    }
  },
  "cells": [
    {
      "cell_type": "markdown",
      "metadata": {
        "id": "view-in-github",
        "colab_type": "text"
      },
      "source": [
        "<a href=\"https://colab.research.google.com/github/NINJAHATTORI004/programmingwithdataanalysis/blob/main/anomaly%2Bdetection%2Busing%2Bautoencoders.ipynb\" target=\"_parent\"><img src=\"https://colab.research.google.com/assets/colab-badge.svg\" alt=\"Open In Colab\"/></a>"
      ]
    },
    {
      "cell_type": "code",
      "execution_count": null,
      "metadata": {
        "colab": {
          "base_uri": "https://localhost:8080/"
        },
        "id": "yh2lKgId-Wfg",
        "outputId": "88cae1a5-9455-440e-d9ad-53fd995eb636"
      },
      "outputs": [
        {
          "output_type": "stream",
          "name": "stdout",
          "text": [
            "--2025-04-08 05:57:51--  http://www.timeseriesclassification.com/aeon-toolkit/ECG5000.zip\n",
            "Resolving www.timeseriesclassification.com (www.timeseriesclassification.com)... 212.78.75.243\n",
            "Connecting to www.timeseriesclassification.com (www.timeseriesclassification.com)|212.78.75.243|:80... connected.\n",
            "HTTP request sent, awaiting response... 200 \n",
            "Length: 10614407 (10M) [application/zip]\n",
            "Saving to: ‘ECG5000.zip’\n",
            "\n",
            "ECG5000.zip         100%[===================>]  10.12M  12.1MB/s    in 0.8s    \n",
            "\n",
            "2025-04-08 05:57:52 (12.1 MB/s) - ‘ECG5000.zip’ saved [10614407/10614407]\n",
            "\n",
            "Archive:  ECG5000.zip\n",
            "  inflating: ECG5000.txt             \n",
            "  inflating: ECG5000_TEST.arff       \n",
            "  inflating: ECG5000_TEST.txt        \n",
            "  inflating: ECG5000_TRAIN.arff      \n",
            "  inflating: ECG5000_TRAIN.txt       \n",
            "  inflating: ECG5000_TEST.ts         \n",
            "  inflating: ECG5000_TRAIN.ts        \n"
          ]
        }
      ],
      "source": [
        "\n",
        "\n",
        "import pandas as pd\n",
        "import numpy as np\n",
        "import matplotlib.pyplot as plt\n",
        "import matplotlib as mpl\n",
        "import tensorflow as tf\n",
        "from tensorflow.keras.models import Model\n",
        "from sklearn.model_selection import train_test_split\n",
        "from sklearn.preprocessing import MinMaxScaler, StandardScaler\n",
        "\n",
        "mpl.rcParams['figure.figsize'] = (10, 5)\n",
        "mpl.rcParams['axes.grid'] = False\n",
        "\n",
        "# Downloading data using !wget and keeping only unzip file\n",
        "!wget http://www.timeseriesclassification.com/aeon-toolkit/ECG5000.zip\n",
        "\n",
        "# Unzipping\n",
        "!unzip ECG5000.zip\n",
        "\n",
        "# Keeping the Zip File\n",
        "!rm ECG5000.zip\n"
      ]
    },
    {
      "cell_type": "code",
      "source": [
        "!cat \"/content/ECG5000_TRAIN.txt\" \"/content/ECG5000_TEST.txt\" > /content/ecg_final.txt  # Concatenating both files and putting to data frames\n",
        "\n",
        "# The error suggests an inconsistent number of columns.\n",
        "# We can try using a more flexible delimiter with 'sep='\\s+' to handle variable spaces.\n",
        "# Also, the 'error_bad_lines=False' argument will skip lines with incorrect number of fields.\n",
        "df = pd.read_csv(\"/content/ecg_final.txt\", sep='\\s+', header=None, error_bad_lines=False)\n",
        "df.shape\n",
        "\n",
        "df.head()\n"
      ],
      "metadata": {
        "colab": {
          "base_uri": "https://localhost:8080/",
          "height": 211
        },
        "id": "78L53vRy_59O",
        "outputId": "2172de5e-a42c-4de2-e5e7-30670de6ea10"
      },
      "execution_count": null,
      "outputs": [
        {
          "output_type": "error",
          "ename": "TypeError",
          "evalue": "read_csv() got an unexpected keyword argument 'error_bad_lines'",
          "traceback": [
            "\u001b[0;31m---------------------------------------------------------------------------\u001b[0m",
            "\u001b[0;31mTypeError\u001b[0m                                 Traceback (most recent call last)",
            "\u001b[0;32m<ipython-input-4-9b004326de35>\u001b[0m in \u001b[0;36m<cell line: 0>\u001b[0;34m()\u001b[0m\n\u001b[1;32m      4\u001b[0m \u001b[0;31m# We can try using a more flexible delimiter with 'sep='\\s+' to handle variable spaces.\u001b[0m\u001b[0;34m\u001b[0m\u001b[0;34m\u001b[0m\u001b[0m\n\u001b[1;32m      5\u001b[0m \u001b[0;31m# Also, the 'error_bad_lines=False' argument will skip lines with incorrect number of fields.\u001b[0m\u001b[0;34m\u001b[0m\u001b[0;34m\u001b[0m\u001b[0m\n\u001b[0;32m----> 6\u001b[0;31m \u001b[0mdf\u001b[0m \u001b[0;34m=\u001b[0m \u001b[0mpd\u001b[0m\u001b[0;34m.\u001b[0m\u001b[0mread_csv\u001b[0m\u001b[0;34m(\u001b[0m\u001b[0;34m\"/content/ecg_final.txt\"\u001b[0m\u001b[0;34m,\u001b[0m \u001b[0msep\u001b[0m\u001b[0;34m=\u001b[0m\u001b[0;34m'\\s+'\u001b[0m\u001b[0;34m,\u001b[0m \u001b[0mheader\u001b[0m\u001b[0;34m=\u001b[0m\u001b[0;32mNone\u001b[0m\u001b[0;34m,\u001b[0m \u001b[0merror_bad_lines\u001b[0m\u001b[0;34m=\u001b[0m\u001b[0;32mFalse\u001b[0m\u001b[0;34m)\u001b[0m\u001b[0;34m\u001b[0m\u001b[0;34m\u001b[0m\u001b[0m\n\u001b[0m\u001b[1;32m      7\u001b[0m \u001b[0mdf\u001b[0m\u001b[0;34m.\u001b[0m\u001b[0mshape\u001b[0m\u001b[0;34m\u001b[0m\u001b[0;34m\u001b[0m\u001b[0m\n\u001b[1;32m      8\u001b[0m \u001b[0;34m\u001b[0m\u001b[0m\n",
            "\u001b[0;31mTypeError\u001b[0m: read_csv() got an unexpected keyword argument 'error_bad_lines'"
          ]
        }
      ]
    },
    {
      "cell_type": "code",
      "source": [],
      "metadata": {
        "id": "lgRQxnEK_6WC"
      },
      "execution_count": null,
      "outputs": []
    },
    {
      "cell_type": "code",
      "source": [],
      "metadata": {
        "id": "grYkcPv0_6Zj"
      },
      "execution_count": null,
      "outputs": []
    }
  ]
}