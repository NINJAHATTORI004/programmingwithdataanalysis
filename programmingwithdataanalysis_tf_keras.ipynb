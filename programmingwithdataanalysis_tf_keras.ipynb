{
  "nbformat": 4,
  "nbformat_minor": 0,
  "metadata": {
    "colab": {
      "provenance": [],
      "authorship_tag": "ABX9TyOL6kTbiZAy+kUf1MgriYHD",
      "include_colab_link": true
    },
    "kernelspec": {
      "name": "python3",
      "display_name": "Python 3"
    },
    "language_info": {
      "name": "python"
    }
  },
  "cells": [
    {
      "cell_type": "markdown",
      "metadata": {
        "id": "view-in-github",
        "colab_type": "text"
      },
      "source": [
        "<a href=\"https://colab.research.google.com/github/NINJAHATTORI004/programmingwithdataanalysis/blob/main/programmingwithdataanalysis_tf_keras.ipynb\" target=\"_parent\"><img src=\"https://colab.research.google.com/assets/colab-badge.svg\" alt=\"Open In Colab\"/></a>"
      ]
    },
    {
      "cell_type": "code",
      "execution_count": 2,
      "metadata": {
        "colab": {
          "base_uri": "https://localhost:8080/"
        },
        "id": "d0P6x0At98uu",
        "outputId": "af1af611-abb9-4e94-baae-a6af021dd2ee"
      },
      "outputs": [
        {
          "output_type": "stream",
          "name": "stdout",
          "text": [
            "Type of narr1: <class 'numpy.ndarray'>\n",
            "narr2:\n",
            " [[1 2 3 4]\n",
            " [3 4 5 6]]\n",
            "narr3:\n",
            " [[[1 2 3 4]\n",
            "  [3 4 5 6]\n",
            "  [7 8 9 6]]]\n",
            "Shape of narr3: (1, 3, 4)\n",
            "2x2 array with 0s:\n",
            " [[0. 0.]\n",
            " [0. 0.]]\n",
            "2x2 array with 5s:\n",
            " [[5 5]\n",
            " [5 5]]\n",
            "2x2 Identity matrix:\n",
            " [[1. 0.]\n",
            " [0. 1.]]\n",
            "4x4 Identity matrix:\n",
            " [[1. 0. 0. 0.]\n",
            " [0. 1. 0. 0.]\n",
            " [0. 0. 1. 0.]\n",
            " [0. 0. 0. 1.]]\n"
          ]
        }
      ],
      "source": [
        "# Basic Numpy Array Creation\n",
        "\n",
        "import numpy as np\n",
        "\n",
        "# 1D array\n",
        "arr1 = [1, 2, 3]\n",
        "narr1 = np.array(arr1)\n",
        "print(\"Type of narr1:\", type(narr1))\n",
        "\n",
        "# Multidimensional array\n",
        "arr2 = [[1, 2, 3, 4], [3, 4, 5, 6]]\n",
        "narr2 = np.array(arr2)\n",
        "print(\"narr2:\\n\", narr2)\n",
        "\n",
        "# 3D array\n",
        "arr3 = [[[1, 2, 3, 4], [3, 4, 5, 6], [7, 8, 9, 6]]]\n",
        "narr3 = np.array(arr3)\n",
        "print(\"narr3:\\n\", narr3)\n",
        "print(\"Shape of narr3:\", narr3.shape)\n",
        "\n",
        "# 2x2 array filled with 0s\n",
        "zer = np.zeros((2, 2))\n",
        "print(\"2x2 array with 0s:\\n\", zer)\n",
        "\n",
        "# 2x2 array filled with 5s\n",
        "full = np.full((2, 2), 5)\n",
        "print(\"2x2 array with 5s:\\n\", full)\n",
        "\n",
        "# Identity matrix (2x2)\n",
        "ex3 = np.eye(2, 2)  # diagonal 1\n",
        "print(\"2x2 Identity matrix:\\n\", ex3)\n",
        "\n",
        "# Optional: 4x4 identity matrix\n",
        "ex4 = np.eye(4, 4)  # diagonal 1\n",
        "print(\"4x4 Identity matrix:\\n\", ex4)\n",
        "\n"
      ]
    },
    {
      "cell_type": "code",
      "source": [
        "\n",
        "# Multi-dimensional array operations\n",
        "\n",
        "import numpy as np\n",
        "\n",
        "# Define a 2D array with consistent sublist lengths\n",
        "arr = [[1, 2, 3, 4, 5, 6],\n",
        "       [7, 8, 9, 6, 0, 0],  # Padded with 0s to match length\n",
        "       [12, 7, 10, 9, 0, 0],  # Padded with 0s to match length\n",
        "       [2, 11, 8, 10, 0, 0]]  # Padded with 0s to match length\n",
        "\n",
        "# Convert to numpy array\n",
        "narr = np.array(arr)\n",
        "\n",
        "# Print the full array\n",
        "print(\"Original array:\\n\", narr)\n",
        "\n",
        "# Print first row (row index 0)\n",
        "print(\"First row:\", narr[0])\n",
        "\n",
        "# Print value at row index 2, column index 3\n",
        "print(\"Value at [2,3]:\", narr[2, 3])\n",
        "\n",
        "# Replace a value at a location\n",
        "narr[3, 0] = 14\n",
        "print(\"Modified array:\\n\", narr)\n",
        "\n",
        "# Get the last row\n",
        "print(\"Last row:\", narr[-1])\n",
        "\n",
        "# Get the second last row\n",
        "print(\"Second last row:\", narr[-2])\n",
        "\n",
        "# Print specific rows and columns\n",
        "# Rows: from index 1 to 3 (4 is excluded)\n",
        "# Columns: from index 2 to 4 (5 is excluded)\n",
        "print(\"Sliced array (rows 1-3, columns 2-4):\\n\", narr[1:4, 2:5])\n",
        "\n",
        "# Concatenation row and column wise\n",
        "\n",
        "# Define arrays to concatenate\n",
        "a = np.array([[1, 2, 3, 4]])\n",
        "b = np.array([[5, 6]])\n",
        "\n",
        "# Concatenate row-wise\n",
        "# c = np.concatenate((a, b))  # This will still result in an error due to inconsistent shapes\n",
        "# print(\"Row-wise concatenation:\\n\", c)\n",
        "# To concatenate, make sure the arrays have compatible shapes. For example:\n",
        "b = np.array([[5, 6, 0, 0]])  # Padded with 0s to match length\n",
        "c = np.concatenate((a, b))\n",
        "print(\"Row-wise concatenation:\\n\", c)\n"
      ],
      "metadata": {
        "colab": {
          "base_uri": "https://localhost:8080/"
        },
        "id": "SRQvEnj5_T5G",
        "outputId": "96c67ba7-70ab-4290-950d-c3dfd48fd8aa"
      },
      "execution_count": 5,
      "outputs": [
        {
          "output_type": "stream",
          "name": "stdout",
          "text": [
            "Original array:\n",
            " [[ 1  2  3  4  5  6]\n",
            " [ 7  8  9  6  0  0]\n",
            " [12  7 10  9  0  0]\n",
            " [ 2 11  8 10  0  0]]\n",
            "First row: [1 2 3 4 5 6]\n",
            "Value at [2,3]: 9\n",
            "Modified array:\n",
            " [[ 1  2  3  4  5  6]\n",
            " [ 7  8  9  6  0  0]\n",
            " [12  7 10  9  0  0]\n",
            " [14 11  8 10  0  0]]\n",
            "Last row: [14 11  8 10  0  0]\n",
            "Second last row: [12  7 10  9  0  0]\n",
            "Sliced array (rows 1-3, columns 2-4):\n",
            " [[ 9  6  0]\n",
            " [10  9  0]\n",
            " [ 8 10  0]]\n",
            "Row-wise concatenation:\n",
            " [[1 2 3 4]\n",
            " [5 6 0 0]]\n"
          ]
        }
      ]
    },
    {
      "cell_type": "code",
      "source": [
        "# Import necessary libraries\n",
        "from keras.datasets import mnist\n",
        "from keras.models import Sequential\n",
        "from keras.layers import Dense, Dropout\n",
        "from keras.utils import to_categorical\n",
        "\n",
        "# Load MNIST dataset\n",
        "(x_train, y_train), (x_test, y_test) = mnist.load_data()\n",
        "\n",
        "# Preprocess data\n",
        "x_train = x_train.reshape(60000, 784).astype('float32') / 255\n",
        "x_test = x_test.reshape(10000, 784).astype('float32') / 255\n",
        "y_train = to_categorical(y_train, 10)\n",
        "y_test = to_categorical(y_test, 10)\n",
        "\n",
        "# Build neural network model\n",
        "model = Sequential()\n",
        "model.add(Dense(512, activation='relu', input_shape=(784,)))\n",
        "model.add(Dropout(0.2))\n",
        "model.add(Dense(512, activation='relu'))\n",
        "model.add(Dropout(0.2))\n",
        "model.add(Dense(10, activation='softmax'))\n",
        "\n",
        "# Compile model\n",
        "model.compile(loss='categorical_crossentropy', optimizer='adam', metrics=['accuracy'])\n",
        "\n",
        "# Train model\n",
        "model.fit(x_train, y_train, batch_size=128, epochs=5, validation_data=(x_test, y_test))\n",
        "\n",
        "# Evaluate model\n",
        "score = model.evaluate(x_test, y_test)\n",
        "print('Test accuracy:', score[1])\n"
      ],
      "metadata": {
        "colab": {
          "base_uri": "https://localhost:8080/"
        },
        "id": "DU4ch3ItCPrg",
        "outputId": "c4bf2b99-c008-420c-e3f7-cea79ad10f45"
      },
      "execution_count": 6,
      "outputs": [
        {
          "output_type": "stream",
          "name": "stdout",
          "text": [
            "Downloading data from https://storage.googleapis.com/tensorflow/tf-keras-datasets/mnist.npz\n",
            "\u001b[1m11490434/11490434\u001b[0m \u001b[32m━━━━━━━━━━━━━━━━━━━━\u001b[0m\u001b[37m\u001b[0m \u001b[1m1s\u001b[0m 0us/step\n"
          ]
        },
        {
          "output_type": "stream",
          "name": "stderr",
          "text": [
            "/usr/local/lib/python3.11/dist-packages/keras/src/layers/core/dense.py:87: UserWarning: Do not pass an `input_shape`/`input_dim` argument to a layer. When using Sequential models, prefer using an `Input(shape)` object as the first layer in the model instead.\n",
            "  super().__init__(activity_regularizer=activity_regularizer, **kwargs)\n"
          ]
        },
        {
          "output_type": "stream",
          "name": "stdout",
          "text": [
            "Epoch 1/5\n",
            "\u001b[1m469/469\u001b[0m \u001b[32m━━━━━━━━━━━━━━━━━━━━\u001b[0m\u001b[37m\u001b[0m \u001b[1m11s\u001b[0m 21ms/step - accuracy: 0.8633 - loss: 0.4546 - val_accuracy: 0.9656 - val_loss: 0.1056\n",
            "Epoch 2/5\n",
            "\u001b[1m469/469\u001b[0m \u001b[32m━━━━━━━━━━━━━━━━━━━━\u001b[0m\u001b[37m\u001b[0m \u001b[1m10s\u001b[0m 20ms/step - accuracy: 0.9662 - loss: 0.1064 - val_accuracy: 0.9741 - val_loss: 0.0825\n",
            "Epoch 3/5\n",
            "\u001b[1m469/469\u001b[0m \u001b[32m━━━━━━━━━━━━━━━━━━━━\u001b[0m\u001b[37m\u001b[0m \u001b[1m10s\u001b[0m 20ms/step - accuracy: 0.9768 - loss: 0.0751 - val_accuracy: 0.9782 - val_loss: 0.0669\n",
            "Epoch 4/5\n",
            "\u001b[1m469/469\u001b[0m \u001b[32m━━━━━━━━━━━━━━━━━━━━\u001b[0m\u001b[37m\u001b[0m \u001b[1m10s\u001b[0m 20ms/step - accuracy: 0.9827 - loss: 0.0518 - val_accuracy: 0.9819 - val_loss: 0.0605\n",
            "Epoch 5/5\n",
            "\u001b[1m469/469\u001b[0m \u001b[32m━━━━━━━━━━━━━━━━━━━━\u001b[0m\u001b[37m\u001b[0m \u001b[1m10s\u001b[0m 21ms/step - accuracy: 0.9856 - loss: 0.0438 - val_accuracy: 0.9816 - val_loss: 0.0653\n",
            "\u001b[1m313/313\u001b[0m \u001b[32m━━━━━━━━━━━━━━━━━━━━\u001b[0m\u001b[37m\u001b[0m \u001b[1m1s\u001b[0m 4ms/step - accuracy: 0.9769 - loss: 0.0811\n",
            "Test accuracy: 0.9815999865531921\n"
          ]
        }
      ]
    }
  ]
}